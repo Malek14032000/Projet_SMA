{
 "cells": [
  {
   "cell_type": "code",
   "execution_count": 1,
   "id": "891dc25b",
   "metadata": {},
   "outputs": [],
   "source": [
    "from model import RobotMission\n",
    "from agents import Knowledge, Robot\n",
    "from objects import Waste\n",
    "import mesa\n",
    "import pandas as pd\n"
   ]
  },
  {
   "cell_type": "code",
   "execution_count": 2,
   "id": "31b9343e",
   "metadata": {},
   "outputs": [],
   "source": [
    "model_params = {\n",
    "    \"n_g\": [2, 3],\n",
    "    \"n_y\": [2, 3],\n",
    "    \"n_r\": [2, 3],\n",
    "    \"n_waste\": [12, 48, 96],\n",
    "    \"width\": 15,\n",
    "    \"height\": 15,\n",
    "    'strategy': [1,2,3]\n",
    "}"
   ]
  },
  {
   "cell_type": "code",
   "execution_count": null,
   "id": "38a15284",
   "metadata": {},
   "outputs": [
    {
     "data": {
      "application/vnd.jupyter.widget-view+json": {
       "model_id": "59f2ac1716fc4a699a47261d59e1656d",
       "version_major": 2,
       "version_minor": 0
      },
      "text/plain": [
       "  0%|          | 0/72 [00:00<?, ?it/s]"
      ]
     },
     "metadata": {},
     "output_type": "display_data"
    }
   ],
   "source": [
    "results_5s = mesa.batch_run(\n",
    "    model_cls=RobotMission,\n",
    "    parameters=model_params,\n",
    "    iterations=1,\n",
    "    max_steps=1000,\n",
    "    number_processes=40,\n",
    "    data_collection_period=-1,  # Important, otherwise the datacollector will only collect data of the last time step\n",
    "    display_progress=True,\n",
    ")\n",
    "\n",
    "results_5s_df = pd.DataFrame(results_5s)"
   ]
  },
  {
   "cell_type": "code",
   "execution_count": 6,
   "id": "a0cb1990",
   "metadata": {},
   "outputs": [],
   "source": [
    "# Save the results to a CSV file\n",
    "results_5s_df.to_csv(\"results.csv\", index=False)"
   ]
  }
 ],
 "metadata": {
  "kernelspec": {
   "display_name": "venv",
   "language": "python",
   "name": "python3"
  },
  "language_info": {
   "codemirror_mode": {
    "name": "ipython",
    "version": 3
   },
   "file_extension": ".py",
   "mimetype": "text/x-python",
   "name": "python",
   "nbconvert_exporter": "python",
   "pygments_lexer": "ipython3",
   "version": "3.11.2"
  }
 },
 "nbformat": 4,
 "nbformat_minor": 5
}
