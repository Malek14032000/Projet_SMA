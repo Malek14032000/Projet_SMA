{
 "cells": [
  {
   "cell_type": "code",
   "execution_count": 1,
   "id": "891dc25b",
   "metadata": {},
   "outputs": [],
   "source": [
    "from model import RobotMission\n",
    "from agents import Knowledge, Robot\n",
    "from objects import Waste\n",
    "import mesa\n",
    "import pandas as pd"
   ]
  },
  {
   "cell_type": "code",
   "execution_count": 2,
   "id": "31b9343e",
   "metadata": {},
   "outputs": [],
   "source": [
    "model_params = {\n",
    "    \"n_g\": [2, 3],\n",
    "    \"n_y\": [2, 3],\n",
    "    \"n_r\": [2, 3],\n",
    "    \"n_waste\": [12, 24, 48, 96],\n",
    "    \"width\": 15,\n",
    "    \"height\": 15,\n",
    "    'strategy': [1,2,3]\n",
    "}"
   ]
  },
  {
   "cell_type": "code",
   "execution_count": null,
   "id": "38a15284",
   "metadata": {},
   "outputs": [
    {
     "data": {
      "application/vnd.jupyter.widget-view+json": {
       "model_id": "42a6e0f408d7467d92eb8aae51de4a67",
       "version_major": 2,
       "version_minor": 0
      },
      "text/plain": [
       "  0%|          | 0/96 [00:00<?, ?it/s]"
      ]
     },
     "metadata": {},
     "output_type": "display_data"
    },
    {
     "name": "stderr",
     "output_type": "stream",
     "text": [
      "Exception in thread Thread-4 (_handle_workers):\n",
      "Traceback (most recent call last):\n",
      "  File \"C:\\Users\\linab\\AppData\\Local\\Programs\\Python\\Python311\\Lib\\threading.py\", line 1038, in _bootstrap_inner\n",
      "    self.run()\n",
      "  File \"c:\\Users\\linab\\Desktop\\3A\\SMA\\mas-2024-2025\\.venv\\Lib\\site-packages\\ipykernel\\ipkernel.py\", line 766, in run_closure\n",
      "    _threading_Thread_run(self)\n",
      "  File \"C:\\Users\\linab\\AppData\\Local\\Programs\\Python\\Python311\\Lib\\threading.py\", line 975, in run\n",
      "    self._target(*self._args, **self._kwargs)\n",
      "  File \"C:\\Users\\linab\\AppData\\Local\\Programs\\Python\\Python311\\Lib\\multiprocessing\\pool.py\", line 522, in _handle_workers\n",
      "    cls._wait_for_updates(current_sentinels, change_notifier)\n",
      "  File \"C:\\Users\\linab\\AppData\\Local\\Programs\\Python\\Python311\\Lib\\multiprocessing\\pool.py\", line 502, in _wait_for_updates\n",
      "    wait(sentinels, timeout=timeout)\n",
      "  File \"C:\\Users\\linab\\AppData\\Local\\Programs\\Python\\Python311\\Lib\\multiprocessing\\connection.py\", line 878, in wait\n",
      "    ready_handles = _exhaustive_wait(waithandle_to_obj.keys(), timeout)\n",
      "                    ^^^^^^^^^^^^^^^^^^^^^^^^^^^^^^^^^^^^^^^^^^^^^^^^^^^\n",
      "  File \"C:\\Users\\linab\\AppData\\Local\\Programs\\Python\\Python311\\Lib\\multiprocessing\\connection.py\", line 810, in _exhaustive_wait\n",
      "    res = _winapi.WaitForMultipleObjects(L, False, timeout)\n",
      "          ^^^^^^^^^^^^^^^^^^^^^^^^^^^^^^^^^^^^^^^^^^^^^^^^^\n",
      "ValueError: need at most 63 handles, got a sequence of length 102\n"
     ]
    }
   ],
   "source": [
    "results_5s = mesa.batch_run(\n",
    "    model_cls=RobotMission,\n",
    "    parameters=model_params,\n",
    "    iterations=1,\n",
    "    max_steps=1000,\n",
    "    number_processes=100,\n",
    "    data_collection_period=1,  # Important, otherwise the datacollector will only collect data of the last time step\n",
    "    display_progress=True,\n",
    ")\n",
    "\n",
    "results_5s_df = pd.DataFrame(results_5s)"
   ]
  }
 ],
 "metadata": {
  "kernelspec": {
   "display_name": ".venv",
   "language": "python",
   "name": "python3"
  },
  "language_info": {
   "codemirror_mode": {
    "name": "ipython",
    "version": 3
   },
   "file_extension": ".py",
   "mimetype": "text/x-python",
   "name": "python",
   "nbconvert_exporter": "python",
   "pygments_lexer": "ipython3",
   "version": "3.11.2"
  }
 },
 "nbformat": 4,
 "nbformat_minor": 5
}
